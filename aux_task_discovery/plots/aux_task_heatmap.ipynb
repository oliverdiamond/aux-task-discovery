{
 "cells": [
  {
   "cell_type": "code",
   "execution_count": 59,
   "metadata": {},
   "outputs": [],
   "source": [
    "%matplotlib inline"
   ]
  },
  {
   "cell_type": "code",
   "execution_count": 57,
   "metadata": {},
   "outputs": [
    {
     "data": {
      "image/png": "[encoded data removed]",
      "text/plain": [
       "<Figure size 640x480 with 1 Axes>"
      ]
     },
     "metadata": {},
     "output_type": "display_data"
    }
   ],
   "source": [
    "import matplotlib.pyplot as plt\n",
    "import matplotlib.patches as patches\n",
    "import matplotlib.cm as cm\n",
    "import matplotlib as mpl\n",
    "\n",
    "import numpy as np\n",
    "\n",
    "# Define grid size\n",
    "rows, cols = 3, 3\n",
    "\n",
    "# Define values for each square in the grid\n",
    "values = [\n",
    "    [0, 1, 2],\n",
    "    [6, 0, 3],\n",
    "    [1, 4, 0],\n",
    "]\n",
    "\n",
    "# Normalize the values to be between 0 and 1\n",
    "norm_values = np.array(values) / np.max(values)\n",
    "\n",
    "# Create the figure and axis\n",
    "fig, ax = plt.subplots()\n",
    "\n",
    "# Create a colormap object\n",
    "cmap = mpl.colormaps.get_cmap('Greens')\n",
    "\n",
    "# Plot each square with the specified color\n",
    "for i in range(rows):\n",
    "    for j in range(cols):\n",
    "        # Get the color from the colormap\n",
    "        color = cmap(norm_values[i, j])\n",
    "        # Create a rectangle\n",
    "        rect = patches.Rectangle((j, rows - 1 - i), 1, 1, facecolor=color, edgecolor='black', linewidth=1)\n",
    "        # Add the rectangle to the plot\n",
    "        ax.add_patch(rect)\n",
    "\n",
    "# Set the limits and aspect ratio\n",
    "ax.set_xlim(0, cols)\n",
    "ax.set_ylim(0, rows)\n",
    "ax.set_aspect('equal')\n",
    "\n",
    "# Remove the axes\n",
    "ax.axis('off')\n",
    "\n",
    "# Display the plot\n",
    "plt.show()"
   ]
  },
  {
   "cell_type": "code",
   "execution_count": null,
   "metadata": {},
   "outputs": [],
   "source": []
  }
 ],
 "metadata": {
  "kernelspec": {
   "display_name": "atd",
   "language": "python",
   "name": "python3"
  },
  "language_info": {
   "codemirror_mode": {
    "name": "ipython",
    "version": 3
   },
   "file_extension": ".py",
   "mimetype": "text/x-python",
   "name": "python",
   "nbconvert_exporter": "python",
   "pygments_lexer": "ipython3",
   "version": "3.9.19"
  }
 },
 "nbformat": 4,
 "nbformat_minor": 2
}
