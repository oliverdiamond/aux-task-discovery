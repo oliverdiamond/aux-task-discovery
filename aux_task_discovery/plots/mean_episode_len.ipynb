{
 "cells": [
  {
   "cell_type": "code",
   "execution_count": 44,
   "metadata": {},
   "outputs": [],
   "source": [
    "%matplotlib inline"
   ]
  },
  {
   "cell_type": "code",
   "execution_count": 45,
   "metadata": {},
   "outputs": [],
   "source": [
    "from collections import defaultdict\n",
    "\n",
    "import matplotlib.pyplot as plt\n",
    "import matplotlib.patches as patches\n",
    "import matplotlib as mpl\n",
    "import numpy as np\n",
    "import wandb\n",
    "import gymnasium as gym\n",
    "import pandas as pd\n",
    "\n",
    "from aux_task_discovery.utils.constants import WANDB_PROJECT, WANDB_ENTITY"
   ]
  },
  {
   "cell_type": "code",
   "execution_count": 46,
   "metadata": {},
   "outputs": [],
   "source": [
    "# Set Sweep ID and agent hyperparameter to compare performance across\n",
    "SWEEP_ID = \"mlnlax4s\"\n",
    "PARAM = \"learning_rate\""
   ]
  },
  {
   "cell_type": "code",
   "execution_count": 47,
   "metadata": {},
   "outputs": [],
   "source": [
    "# Query W&B API for sweep runs\n",
    "api = wandb.Api()\n",
    "sweep = api.sweep(WANDB_ENTITY + \"/\" + WANDB_PROJECT + \"/\" + SWEEP_ID)\n",
    "sweep_runs = sweep.runs"
   ]
  },
  {
   "cell_type": "code",
   "execution_count": null,
   "metadata": {},
   "outputs": [],
   "source": [
    "max_episodes = sweep_runs[0].config['max_episodes']\n",
    "n_episode_comp = round(max_episodes*0.2)\n",
    "mean_episode_lens = defaultdict(list)\n",
    "for run in sweep_runs:\n",
    "    assert run.config['max_episodes'] == max_episodes, \"Max episodes must be the same for all runs\"\n",
    "    run_param = run.config['agent_args'][PARAM]\n",
    "    data = pd.DataFrame([row for row in run.scan_history(keys=['episode_len', 'episode'])])\n",
    "    mean_episode_lens[run_param].append(data.tail(n_episode_comp)['episode_len'].mean())\n",
    "\n",
    "n_runs = len(mean_episode_lens[run_param])\n",
    "for key in mean_episode_lens:\n",
    "    assert len(mean_episode_lens[key]) == n_runs, \"Number of runs must be the same for all param values\"\n",
    "    mean_episode_lens[key] = np.mean(mean_episode_lens[key])"
   ]
  },
  {
   "cell_type": "code",
   "execution_count": 50,
   "metadata": {},
   "outputs": [
    {
     "name": "stdout",
     "output_type": "stream",
     "text": [
      "Mean episode length for last 20% of episodes averaged across 2 runs\n",
      "learning_rate = 0.02: 115.25\n",
      "learning_rate = 0.01: 298.25\n"
     ]
    }
   ],
   "source": [
    "print(f\"Mean episode length for last 20% of episodes averaged across {n_runs} runs\")\n",
    "for key, val in mean_episode_lens.items():\n",
    "    print(f\"{PARAM} = {key}: {val}\")"
   ]
  }
 ],
 "metadata": {
  "kernelspec": {
   "display_name": "atd",
   "language": "python",
   "name": "python3"
  },
  "language_info": {
   "codemirror_mode": {
    "name": "ipython",
    "version": 3
   },
   "file_extension": ".py",
   "mimetype": "text/x-python",
   "name": "python",
   "nbconvert_exporter": "python",
   "pygments_lexer": "ipython3",
   "version": "3.9.19"
  }
 },
 "nbformat": 4,
 "nbformat_minor": 2
}
