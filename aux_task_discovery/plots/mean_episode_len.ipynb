{
 "cells": [
  {
   "cell_type": "code",
   "execution_count": 1,
   "metadata": {},
   "outputs": [],
   "source": [
    "%matplotlib inline"
   ]
  },
  {
   "cell_type": "code",
   "execution_count": 23,
   "metadata": {},
   "outputs": [],
   "source": [
    "import matplotlib.pyplot as plt\n",
    "import matplotlib.patches as patches\n",
    "import matplotlib as mpl\n",
    "import numpy as np\n",
    "import wandb\n",
    "import gymnasium as gym\n",
    "import pandas as pd\n",
    "\n",
    "from aux_task_discovery.utils.constants import WANDB_PROJECT, WANDB_ENTITY"
   ]
  },
  {
   "cell_type": "code",
   "execution_count": 3,
   "metadata": {},
   "outputs": [],
   "source": [
    "# Set Sweep ID and hyperparameter to compare performance across\n",
    "SWEEP_ID = \"n89duw92\"\n",
    "PARAM = \"learning_rate\""
   ]
  },
  {
   "cell_type": "code",
   "execution_count": null,
   "metadata": {},
   "outputs": [],
   "source": [
    "def get_mean_episode_len(sweep_id, metric):\n",
    "    '''\n",
    "    For each run in a sweep, get mean episode length over last 20% of episodes. Then average this metric over all runs.\n",
    "    '''\n",
    "    # Query W&B API for sweep runs\n",
    "    api = wandb.Api()\n",
    "    sweep = api.sweep(WANDB_ENTITY + \"/\" + WANDB_PROJECT + \"/\" + SWEEP_ID)\n",
    "    sweep_runs = sweep.runs\n",
    "\n",
    "    n_episodes = sweep_runs[0].config['max_episodes']\n",
    "    mean_episode_lens = {}\n",
    "    keys = ['episode_len', 'episode']\n",
    "    for run in sweep_runs:\n",
    "        assert run.config['max_episodes'] == n_episodes, \"Max episodes must be the same for all runs\"\n",
    "        data = pd.DataFrame([row for row in run.scan_history(keys=keys)])"
   ]
  },
  {
   "cell_type": "code",
   "execution_count": null,
   "metadata": {},
   "outputs": [],
   "source": [
    "results = get_mean_episode_len(SWEEP_ID, PARAM)\n",
    "for key, value in results.items():\n",
    "    print(f\"{key}: {value}\")"
   ]
  }
 ],
 "metadata": {
  "kernelspec": {
   "display_name": "atd",
   "language": "python",
   "name": "python3"
  },
  "language_info": {
   "codemirror_mode": {
    "name": "ipython",
    "version": 3
   },
   "file_extension": ".py",
   "mimetype": "text/x-python",
   "name": "python",
   "nbconvert_exporter": "python",
   "pygments_lexer": "ipython3",
   "version": "3.9.19"
  }
 },
 "nbformat": 4,
 "nbformat_minor": 2
}
