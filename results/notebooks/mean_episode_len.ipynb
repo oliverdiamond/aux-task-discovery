{
 "cells": [
  {
   "cell_type": "code",
   "execution_count": 1,
   "metadata": {},
   "outputs": [],
   "source": [
    "%matplotlib inline"
   ]
  },
  {
   "cell_type": "code",
   "execution_count": 2,
   "metadata": {},
   "outputs": [],
   "source": [
    "from collections import defaultdict\n",
    "\n",
    "import matplotlib.pyplot as plt\n",
    "import matplotlib.patches as patches\n",
    "import matplotlib as mpl\n",
    "import numpy as np\n",
    "import wandb\n",
    "import gymnasium as gym\n",
    "import pandas as pd\n",
    "\n",
    "from aux_task_discovery.utils.constants import WANDB_PROJECT, WANDB_ENTITY"
   ]
  },
  {
   "cell_type": "code",
   "execution_count": 3,
   "metadata": {},
   "outputs": [],
   "source": [
    "# Set Sweep ID and agent hyperparameter to compare performance across\n",
    "SWEEP_ID = \"84pfqy5i\"\n",
    "PARAM = \"learning_rate\""
   ]
  },
  {
   "cell_type": "code",
   "execution_count": 4,
   "metadata": {},
   "outputs": [],
   "source": [
    "# Query W&B API for sweep runs\n",
    "api = wandb.Api()\n",
    "sweep = api.sweep(WANDB_ENTITY + \"/\" + WANDB_PROJECT + \"/\" + SWEEP_ID)\n",
    "sweep_runs = sweep.runs"
   ]
  },
  {
   "cell_type": "code",
   "execution_count": 5,
   "metadata": {},
   "outputs": [],
   "source": [
    "# For each hyperparameter value, calculate the mean episode length using the last 20% of episodes from each run with that value\n",
    "max_episodes = sweep_runs[0].config['max_episodes']\n",
    "n_episode_comp = round(max_episodes*0.1)\n",
    "mean_episode_lens = defaultdict(list)\n",
    "for run in sweep_runs:\n",
    "    assert run.config['max_episodes'] == max_episodes, \"Max episodes must be the same for all runs\"\n",
    "    run_param = run.config['agent_args'][PARAM]\n",
    "    data = pd.DataFrame([row for row in run.scan_history(keys=['episode_len', 'episode'])])\n",
    "    mean_episode_lens[run_param].append(data.tail(n_episode_comp)['episode_len'].mean())\n",
    "\n",
    "n_runs = len(mean_episode_lens[run_param])\n",
    "for key in mean_episode_lens:\n",
    "    assert len(mean_episode_lens[key]) == n_runs, \"Number of runs must be the same for all param values\"\n",
    "    mean_episode_lens[key] = np.mean(mean_episode_lens[key])"
   ]
  },
  {
   "cell_type": "code",
   "execution_count": 6,
   "metadata": {},
   "outputs": [
    {
     "name": "stdout",
     "output_type": "stream",
     "text": [
      "Mean episode length for last 20 episodes averaged across 10 runs\n",
      "learning_rate = 0.04: 89.005\n",
      "learning_rate = 0.01: 66.60499999999999\n",
      "learning_rate = 0.0025: 48.325\n",
      "learning_rate = 0.000625: 56.045\n"
     ]
    }
   ],
   "source": [
    "print(f\"Mean episode length for last {n_episode_comp} episodes averaged across {n_runs} runs\")\n",
    "for key, val in mean_episode_lens.items():\n",
    "    print(f\"{PARAM} = {key}: {val}\")"
   ]
  },
  {
   "cell_type": "code",
   "execution_count": 7,
   "metadata": {},
   "outputs": [],
   "source": [
    "import json\n",
    "# Save results to txt\n",
    "with open(f\"../sweep_results/{SWEEP_ID}_{PARAM}_episode_lens.txt\", \"w\") as f:\n",
    "    f.write(f\"Sweep ID: {SWEEP_ID}\\n\")\n",
    "    f.write(\"Sweep Config:\\n\")\n",
    "    json.dump(sweep.config, f, indent=4)\n",
    "    f.write(f\"\\n\\nMean episode length for last {n_episode_comp} episodes averaged across {n_runs} runs:\\n\")\n",
    "    for key, val in mean_episode_lens.items():\n",
    "        f.write(f\"{PARAM} = {key}: {val}\\n\")"
   ]
  }
 ],
 "metadata": {
  "kernelspec": {
   "display_name": "atd",
   "language": "python",
   "name": "python3"
  },
  "language_info": {
   "codemirror_mode": {
    "name": "ipython",
    "version": 3
   },
   "file_extension": ".py",
   "mimetype": "text/x-python",
   "name": "python",
   "nbconvert_exporter": "python",
   "pygments_lexer": "ipython3",
   "version": "3.9.19"
  }
 },
 "nbformat": 4,
 "nbformat_minor": 2
}
