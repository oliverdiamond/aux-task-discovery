{
 "cells": [
  {
   "cell_type": "code",
   "execution_count": 7,
   "metadata": {},
   "outputs": [],
   "source": [
    "%matplotlib inline"
   ]
  },
  {
   "cell_type": "code",
   "execution_count": 8,
   "metadata": {},
   "outputs": [],
   "source": [
    "from collections import defaultdict\n",
    "import json\n",
    "\n",
    "import numpy as np\n",
    "import wandb\n",
    "import pandas as pd\n",
    "\n",
    "from aux_task_discovery.utils.constants import WANDB_PROJECT, WANDB_ENTITY"
   ]
  },
  {
   "cell_type": "markdown",
   "metadata": {},
   "source": [
    "##### Set Sweep ID and agent hyperparameter to compare performance across"
   ]
  },
  {
   "cell_type": "code",
   "execution_count": 9,
   "metadata": {},
   "outputs": [],
   "source": [
    "SWEEP_ID = \"iegwo7wi\"\n",
    "PARAM = \"learning_rate\""
   ]
  },
  {
   "cell_type": "markdown",
   "metadata": {},
   "source": [
    "##### Query W&B API for sweep runs"
   ]
  },
  {
   "cell_type": "code",
   "execution_count": 10,
   "metadata": {},
   "outputs": [],
   "source": [
    "api = wandb.Api()\n",
    "sweep = api.sweep(WANDB_ENTITY + \"/\" + WANDB_PROJECT + \"/\" + SWEEP_ID)\n",
    "sweep_runs = sweep.runs"
   ]
  },
  {
   "cell_type": "markdown",
   "metadata": {},
   "source": [
    "##### For each hyperparameter value, calculate the mean episode length using the last 20% of episodes from each run with that value\n"
   ]
  },
  {
   "cell_type": "code",
   "execution_count": 11,
   "metadata": {},
   "outputs": [
    {
     "name": "stderr",
     "output_type": "stream",
     "text": [
      "\u001b[34m\u001b[1mwandb\u001b[0m: \u001b[33mWARNING\u001b[0m A graphql request initiated by the public wandb API timed out (timeout=19 sec). Create a new API with an integer timeout larger than 19, e.g., `api = wandb.Api(timeout=29)` to increase the graphql timeout.\n",
      "\u001b[34m\u001b[1mwandb\u001b[0m: \u001b[33mWARNING\u001b[0m A graphql request initiated by the public wandb API timed out (timeout=19 sec). Create a new API with an integer timeout larger than 19, e.g., `api = wandb.Api(timeout=29)` to increase the graphql timeout.\n",
      "\u001b[34m\u001b[1mwandb\u001b[0m: \u001b[33mWARNING\u001b[0m A graphql request initiated by the public wandb API timed out (timeout=19 sec). Create a new API with an integer timeout larger than 19, e.g., `api = wandb.Api(timeout=29)` to increase the graphql timeout.\n"
     ]
    },
    {
     "name": "stdout",
     "output_type": "stream",
     "text": [
      "Mean episode length for last 20 episodes averaged across 10 runs\n",
      "learning_rate = 0.04: 671.605\n",
      "learning_rate = 0.01: 296.69500000000005\n",
      "learning_rate = 0.0025: 77.77000000000001\n",
      "learning_rate = 0.000625: 273.31999999999994\n"
     ]
    }
   ],
   "source": [
    "max_episodes = sweep_runs[0].config['max_episodes']\n",
    "n_episode_comp = round(max_episodes*0.1)\n",
    "mean_episode_lens = defaultdict(list)\n",
    "for run in sweep_runs:\n",
    "    assert run.config['max_episodes'] == max_episodes, \"Max episodes must be the same for all runs\"\n",
    "    run_param = run.config['agent_args'][PARAM]\n",
    "    data = pd.DataFrame([row for row in run.scan_history(keys=['episode_len', 'episode'])])\n",
    "    mean_episode_lens[run_param].append(data.tail(n_episode_comp)['episode_len'].mean())\n",
    "\n",
    "n_runs = len(mean_episode_lens[run_param])\n",
    "for key in mean_episode_lens:\n",
    "    assert len(mean_episode_lens[key]) == n_runs, \"Number of runs must be the same for all param values\"\n",
    "    mean_episode_lens[key] = np.mean(mean_episode_lens[key])\n",
    "\n",
    "print(f\"Mean episode length for last {n_episode_comp} episodes averaged across {n_runs} runs\")\n",
    "for key, val in mean_episode_lens.items():\n",
    "    print(f\"{PARAM} = {key}: {val}\")"
   ]
  },
  {
   "cell_type": "markdown",
   "metadata": {},
   "source": [
    "##### Save results"
   ]
  },
  {
   "cell_type": "code",
   "execution_count": 12,
   "metadata": {},
   "outputs": [],
   "source": [
    "with open(f\"../sweep_results/{SWEEP_ID}_{PARAM}_episode_lens.txt\", \"w\") as f:\n",
    "    f.write(f\"Sweep ID: {SWEEP_ID}\\n\")\n",
    "    f.write(\"Sweep Config:\\n\")\n",
    "    json.dump(sweep.config, f, indent=4)\n",
    "    f.write(f\"\\n\\nMean episode length for last {n_episode_comp} episodes averaged across {n_runs} runs:\\n\")\n",
    "    for key, val in mean_episode_lens.items():\n",
    "        f.write(f\"{PARAM} = {key}: {val}\\n\")"
   ]
  }
 ],
 "metadata": {
  "kernelspec": {
   "display_name": "atd",
   "language": "python",
   "name": "python3"
  },
  "language_info": {
   "codemirror_mode": {
    "name": "ipython",
    "version": 3
   },
   "file_extension": ".py",
   "mimetype": "text/x-python",
   "name": "python",
   "nbconvert_exporter": "python",
   "pygments_lexer": "ipython3",
   "version": "3.9.19"
  }
 },
 "nbformat": 4,
 "nbformat_minor": 2
}
