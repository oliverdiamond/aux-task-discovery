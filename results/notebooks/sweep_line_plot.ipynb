{
 "cells": [
  {
   "cell_type": "code",
   "execution_count": 63,
   "metadata": {},
   "outputs": [],
   "source": [
    "%matplotlib inline"
   ]
  },
  {
   "cell_type": "code",
   "execution_count": 64,
   "metadata": {},
   "outputs": [],
   "source": [
    "import os\n",
    "import json\n",
    "\n",
    "import matplotlib.pyplot as plt\n",
    "import seaborn as sns\n",
    "import pandas as pd\n",
    "import numpy as np"
   ]
  },
  {
   "cell_type": "markdown",
   "metadata": {},
   "source": [
    "### Plot results from across multiple sweeps\n",
    "The below code is used for grouping runs from across multiple sweeps based on a condition and averaging their values for the specified y variable within each grouping of the condition. The standard use case is when several sweeps have been done using different ranges of values for a given hyperparameter and we want to compare the learning curves for all hyperparameter values. Typically within each sweep there will be multiple runs (with different random seeds) for each hyperparameter value, and each learning curve will display values averaged over these runs. Note that this code can also be used to compare values of the condition from a single sweep if only one sweep id is provided, or to compare individual runs if the condition is set to run_id. "
   ]
  },
  {
   "cell_type": "markdown",
   "metadata": {},
   "source": [
    "#### Edit the cell below with desired values for plotting"
   ]
  },
  {
   "cell_type": "code",
   "execution_count": 65,
   "metadata": {},
   "outputs": [],
   "source": [
    "SWEEP_IDS = ['5vkpmuj0']\n",
    "CONDITION = 'algorithm'\n",
    "X = 'episode'\n",
    "Y = 'episode_len'\n",
    "ERROR_BAR = 'se'\n",
    "SMOOTH = 10"
   ]
  },
  {
   "cell_type": "code",
   "execution_count": 66,
   "metadata": {},
   "outputs": [],
   "source": [
    "def config_to_algorithm(run_config):\n",
    "    '''\n",
    "    Get algorithm name from a run config\n",
    "    '''\n",
    "    if run_config['agent'] == 'gentest':\n",
    "        generator = run_config['agent_args']['generator']\n",
    "        if generator == \"grid_subgoal\":\n",
    "            return 'gen-and-test'\n",
    "        elif generator == \"fourrooms_corner\":\n",
    "            return 'corner'\n",
    "        elif generator == \"fourrooms_hallway\":\n",
    "            return 'hallway'\n",
    "    return run_config['agent']"
   ]
  },
  {
   "cell_type": "code",
   "execution_count": 67,
   "metadata": {},
   "outputs": [],
   "source": [
    "def get_datasets(sweep_ids, condition, x, y):\n",
    "    '''\n",
    "    Returns data for all runs assosiated with given sweep ids\n",
    "    '''\n",
    "    # Iterate over sweeps\n",
    "    run_dfs = []\n",
    "    for sweep_id in sweep_ids:\n",
    "        sweep_dir = f'../sweep_data/{sweep_id}'\n",
    "        config_dir = os.path.join(sweep_dir, 'config')\n",
    "        data_dir = os.path.join(sweep_dir, 'data')\n",
    "        # Iterate over run configs for the sweep\n",
    "        for filename in os.listdir(config_dir):\n",
    "            # Load run config and determine value of condition\n",
    "            config_path = os.path.join(config_dir, filename)\n",
    "            with open(config_path, 'r') as file:\n",
    "                run_config = json.load(file)\n",
    "            if condition == 'algorithm':\n",
    "                run_val = config_to_algorithm(run_config)\n",
    "            else:\n",
    "                run_val = run_config.get(condition, run_config['agent_args'].get(condition))\n",
    "            # Load run data\n",
    "            data_path = os.path.join(data_dir, f'{run_config[\"run_id\"]}.csv')\n",
    "            run_df = pd.read_csv(data_path, usecols=[x, y])\n",
    "            # make new column for the condition value\n",
    "            run_df[condition] = run_val\n",
    "            run_dfs.append(run_df)\n",
    "    return run_dfs"
   ]
  },
  {
   "cell_type": "code",
   "execution_count": 68,
   "metadata": {},
   "outputs": [],
   "source": [
    "def make_plot(sweep_ids, condition, x, y, errorbar='ci', smooth=10):\n",
    "    '''\n",
    "    Plots\n",
    "    '''\n",
    "    run_dfs = get_datasets(sweep_ids, condition, x, y)\n",
    "    # Compute running average of y values for each run \n",
    "    if smooth > 1:\n",
    "        for df in run_dfs:\n",
    "            df[y] = df[y].rolling(window=smooth, min_periods=1, center=True).mean()\n",
    "    stacked_df = pd.concat(run_dfs, axis=0, ignore_index=True)\n",
    "    # Plot learning curves for each level of the condition, averaging y values for each timestep across runs with the same level\n",
    "    sns.set_theme(style=\"darkgrid\", font_scale=1.5, rc={\"figure.dpi\":300, 'savefig.dpi':300})\n",
    "    sns.lineplot(x=x, y=y, hue=condition, data=stacked_df, errorbar=errorbar)\n",
    "    plt.legend(loc='best').set_draggable(True)\n",
    "    # Set x-axis scale in scientific notation if max x is large\n",
    "    xscale = np.max(np.asarray(stacked_df[x])) > 5e3\n",
    "    if xscale:\n",
    "        plt.ticklabel_format(style='sci', axis='x', scilimits=(0,0))\n",
    "    plt.tight_layout(pad=0.5)\n",
    "    plt.show()"
   ]
  },
  {
   "cell_type": "code",
   "execution_count": null,
   "metadata": {},
   "outputs": [],
   "source": [
    "make_plot(SWEEP_IDS, CONDITION, X, Y, errorbar=ERROR_BAR, smooth=SMOOTH)"
   ]
  }
 ],
 "metadata": {
  "kernelspec": {
   "display_name": "atd",
   "language": "python",
   "name": "python3"
  },
  "language_info": {
   "codemirror_mode": {
    "name": "ipython",
    "version": 3
   },
   "file_extension": ".py",
   "mimetype": "text/x-python",
   "name": "python",
   "nbconvert_exporter": "python",
   "pygments_lexer": "ipython3",
   "version": "3.9.19"
  }
 },
 "nbformat": 4,
 "nbformat_minor": 2
}
